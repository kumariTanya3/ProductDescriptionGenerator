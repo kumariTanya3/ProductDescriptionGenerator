{
 "cells": [
  {
   "cell_type": "code",
   "execution_count": 2,
   "id": "6fec0586",
   "metadata": {},
   "outputs": [
    {
     "data": {
      "text/plain": [
       "True"
      ]
     },
     "execution_count": 2,
     "metadata": {},
     "output_type": "execute_result"
    }
   ],
   "source": [
    "import os\n",
    "from dotenv import load_dotenv\n",
    "load_dotenv()"
   ]
  },
  {
   "cell_type": "code",
   "execution_count": 3,
   "id": "be765650",
   "metadata": {},
   "outputs": [],
   "source": [
    "GROQ_API_KEY = os.getenv(\"GGROQ_API_KEY\")"
   ]
  },
  {
   "cell_type": "code",
   "execution_count": 4,
   "id": "8d5e8054",
   "metadata": {},
   "outputs": [
    {
     "name": "stdout",
     "output_type": "stream",
     "text": [
      "\n",
      "You are a seasoned SEO specialist with deep expertise in digital sales and marketing copywriting.\n",
      "\n",
      "Your task is to craft a compelling, creative, and attention-grabbing product title that:\n",
      "- Begins with one or two bold, exclusive, and premium-sounding words that convey a sense of quality and effectiveness to the end user.\n",
      "- Clearly highlights the product’s key feature.\n",
      "- Appeals to the target audience’s emotions, needs, or desires.\n",
      "- Incorporates relevant keywords for optimal SEO visibility.\n",
      "- Is concise (preferably under 70 characters), yet impactful and engaging.\n",
      "\n",
      "Use the information below:\n",
      "- Product Name: News\n",
      "- Key Feature: Good Feature\n",
      "\n",
      "Respond with only the final product title as plain text—no formatting, explanations, or additional output.\n",
      "\n"
     ]
    }
   ],
   "source": [
    "from langchain_core.prompts import PromptTemplate\n",
    "\n",
    "templateOfTiTle='''\n",
    "You are a seasoned SEO specialist with deep expertise in digital sales and marketing copywriting.\n",
    "\n",
    "Your task is to craft a compelling, creative, and attention-grabbing product title that:\n",
    "- Begins with one or two bold, exclusive, and premium-sounding words that convey a sense of quality and effectiveness to the end user.\n",
    "- Clearly highlights the product’s key feature.\n",
    "- Appeals to the target audience’s emotions, needs, or desires.\n",
    "- Incorporates relevant keywords for optimal SEO visibility.\n",
    "- Is concise (preferably under 70 characters), yet impactful and engaging.\n",
    "\n",
    "Use the information below:\n",
    "- Product Name: {ProductName}\n",
    "- Key Feature: {ProductFeature}\n",
    "\n",
    "Respond with only the final product title as plain text—no formatting, explanations, or additional output.\n",
    "'''\n",
    "\n",
    "FinalTiTlePrompt=PromptTemplate(\n",
    "    input_variables=[\"ProductName\",\"ProductFeature\"],\n",
    "    template=templateOfTiTle,\n",
    ")\n",
    "\n",
    "print(FinalTiTlePrompt.format(ProductName=\"News\",ProductFeature=\"Good Feature\"))\n"
   ]
  },
  {
   "cell_type": "code",
   "execution_count": 7,
   "id": "2fcd1afa",
   "metadata": {},
   "outputs": [],
   "source": [
    "from langchain_groq import ChatGroq\n",
    "\n",
    "groqAiLLM=ChatGroq(\n",
    "    api_key=GROQ_API_KEY,\n",
    "    model=\"deepseek-r1-distill-llama-70b\",\n",
    "    temperature=0,\n",
    "    max_tokens=None,\n",
    "    reasoning_format=\"parsed\",\n",
    "    timeout=None,\n",
    "    max_retries=2,\n",
    ")\n"
   ]
  },
  {
   "cell_type": "code",
   "execution_count": 8,
   "id": "e7c63ecd",
   "metadata": {},
   "outputs": [],
   "source": [
    "chain=FinalTiTlePrompt| groqAiLLM\n",
    "\n",
    "resultChain1=chain.invoke({\n",
    "    \"ProductName\":\"Wireless Earbuds\",\n",
    "    \"ProductFeature\":\"Noise cancellation, 12-hour battery life, Bluetooth 5.3\"\n",
    "})"
   ]
  },
  {
   "cell_type": "code",
   "execution_count": 9,
   "id": "008215fd",
   "metadata": {},
   "outputs": [
    {
     "data": {
      "text/plain": [
       "'\"Elite Wireless Earbuds - Noise Cancellation, 12-Hour Battery, Bluetooth 5.3\"'"
      ]
     },
     "execution_count": 9,
     "metadata": {},
     "output_type": "execute_result"
    }
   ],
   "source": [
    "resultChain1.content"
   ]
  },
  {
   "cell_type": "code",
   "execution_count": 10,
   "id": "b33d0985",
   "metadata": {},
   "outputs": [],
   "source": [
    "templateOfDescription='''\n",
    "You are a seasoned marketing copywriter with expertise in persuasive product descriptions and conversion-focused content.\n",
    "\n",
    "Your task is to write a compelling, engaging, and benefit-driven product description based on the following product title:\n",
    "- Product Title: {ProductTitle}\n",
    "\n",
    "The description should:\n",
    "- Expand on the product’s key benefits and what makes it stand out.\n",
    "- Emphasize its value, efficiency, and appeal to the target customer's desires or problems.\n",
    "- Maintain a confident, persuasive marketing tone.\n",
    "- Be concise, ideally between 50 to 100 words.\n",
    "- Be suitable for use on an e-commerce website or digital marketplace.\n",
    "\n",
    "Respond with only the final product description as plain text—no formatting, explanations, or additional output.\n",
    "\n",
    "'''\n",
    "\n",
    "FinalDescriptionPrompt=PromptTemplate(\n",
    "    input_variables=[\"ProductTitle\"],\n",
    "    template=templateOfDescription\n",
    ")\n"
   ]
  },
  {
   "cell_type": "code",
   "execution_count": 11,
   "id": "76120e47",
   "metadata": {},
   "outputs": [
    {
     "name": "stdout",
     "output_type": "stream",
     "text": [
      "\n",
      "You are a seasoned marketing copywriter with expertise in persuasive product descriptions and conversion-focused content.\n",
      "\n",
      "Your task is to write a compelling, engaging, and benefit-driven product description based on the following product title:\n",
      "- Product Title: \"Elite Wireless Earbuds - Noise Cancellation, 12-Hour Battery, Bluetooth 5.3\"\n",
      "\n",
      "The description should:\n",
      "- Expand on the product’s key benefits and what makes it stand out.\n",
      "- Emphasize its value, efficiency, and appeal to the target customer's desires or problems.\n",
      "- Maintain a confident, persuasive marketing tone.\n",
      "- Be concise, ideally between 50 to 100 words.\n",
      "- Be suitable for use on an e-commerce website or digital marketplace.\n",
      "\n",
      "Respond with only the final product description as plain text—no formatting, explanations, or additional output.\n",
      "\n",
      "\n"
     ]
    }
   ],
   "source": [
    "print(FinalDescriptionPrompt.format(ProductTitle=resultChain1.content))"
   ]
  },
  {
   "cell_type": "code",
   "execution_count": 12,
   "id": "5308b22c",
   "metadata": {},
   "outputs": [],
   "source": [
    "chain2=FinalDescriptionPrompt| groqAiLLM\n",
    "\n",
    "resultChain2=chain2.invoke({\n",
    "    \"ProductTitle\":resultChain1.content\n",
    "})\n"
   ]
  },
  {
   "cell_type": "code",
   "execution_count": 13,
   "id": "1a3e9fbf",
   "metadata": {},
   "outputs": [
    {
     "data": {
      "text/plain": [
       "\"Experience audio like never before with Elite Wireless Earbuds, designed to elevate your listening experience. Immerse yourself in crystal-clear, rich sound, while advanced noise cancellation blocks out distractions, letting you focus on what matters. Enjoy uninterrupted listening with a long-lasting 12-hour battery, perfect for your busy day. Equipped with Bluetooth 5.3, these earbuds offer a stable and fast connection, ensuring seamless music and calls. Whether you're working out, commuting, or relaxing, Elite Wireless Earbuds deliver unmatched performance and convenience, tailored to your active lifestyle. Upgrade your sound today and discover a superior audio experience.\""
      ]
     },
     "execution_count": 13,
     "metadata": {},
     "output_type": "execute_result"
    }
   ],
   "source": [
    "resultChain2.content\n"
   ]
  }
 ],
 "metadata": {
  "kernelspec": {
   "display_name": "genai-env",
   "language": "python",
   "name": "python3"
  },
  "language_info": {
   "codemirror_mode": {
    "name": "ipython",
    "version": 3
   },
   "file_extension": ".py",
   "mimetype": "text/x-python",
   "name": "python",
   "nbconvert_exporter": "python",
   "pygments_lexer": "ipython3",
   "version": "3.12.3"
  }
 },
 "nbformat": 4,
 "nbformat_minor": 5
}
